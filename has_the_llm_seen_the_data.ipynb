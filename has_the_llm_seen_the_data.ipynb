{
 "cells": [
  {
   "cell_type": "markdown",
   "metadata": {},
   "source": [
    "# Testing methods for understanding whether the language model has seen a dataset before"
   ]
  },
  {
   "cell_type": "code",
   "execution_count": 1,
   "metadata": {},
   "outputs": [],
   "source": [
    "import json\n",
    "import numpy as np\n",
    "import pandas as pd\n",
    "import matplotlib.pyplot as plt\n",
    "import seaborn as sns\n",
    "from pathlib import Path\n",
    "from my_code.utils import load_nested_dict_to_pandas"
   ]
  },
  {
   "cell_type": "code",
   "execution_count": 2,
   "metadata": {},
   "outputs": [],
   "source": [
    "result_save_path = Path(\"results\", \"table_tests\")\n",
    "result_save_path.mkdir(parents=True, exist_ok=True)"
   ]
  },
  {
   "cell_type": "code",
   "execution_count": 3,
   "metadata": {},
   "outputs": [
    {
     "name": "stdout",
     "output_type": "stream",
     "text": [
      "Loading header test results: \n",
      " results/table_tests/header_test_wine_quality.json\n",
      " results/table_tests/header_test_fake_data.json\n",
      " results/table_tests/header_test_breast_cancer.json\n",
      " results/table_tests/header_test_heart_disease.json\n",
      " results/table_tests/header_test_california_housing.json\n",
      "Loading row test results: \n",
      " results/table_tests/row_test_wine_quality.json\n",
      " results/table_tests/row_test_california_housing.json\n",
      " results/table_tests/row_test_fake_data.json\n",
      " results/table_tests/row_test_breast_cancer.json\n",
      " results/table_tests/row_test_heart_disease.json\n"
     ]
    }
   ],
   "source": [
    "# loading results\n",
    "header_test_files = list(result_save_path.glob(\"header_test_*.json\"))\n",
    "row_test_files = list(result_save_path.glob(\"row_test_*.json\"))\n",
    "\n",
    "print(\n",
    "    \"Loading header test results:\", \n",
    "    \"\\n\", \n",
    "    \"\\n \".join([str(s) for s in header_test_files])\n",
    ")\n",
    "\n",
    "print(\n",
    "    \"Loading row test results:\", \n",
    "    \"\\n\", \n",
    "    \"\\n \".join([str(s) for s in row_test_files])\n",
    ")\n",
    "\n",
    "\n",
    "header_test_df = pd.concat(\n",
    "    [\n",
    "        load_nested_dict_to_pandas(\n",
    "            json.load(open(f, \"r\")), \n",
    "            level_names=[\"dataset\"],\n",
    "        )\n",
    "        for f in header_test_files\n",
    "    ]\n",
    ")\n",
    "\n",
    "row_test_df = pd.concat(\n",
    "    [\n",
    "        load_nested_dict_to_pandas(\n",
    "            json.load(open(f, \"r\")), \n",
    "            level_names=[\"dataset\", \"run\"],\n",
    "        )\n",
    "        for f in row_test_files\n",
    "    ]\n",
    ")"
   ]
  },
  {
   "cell_type": "code",
   "execution_count": 4,
   "metadata": {},
   "outputs": [
    {
     "data": {
      "text/html": [
       "<div>\n",
       "<style scoped>\n",
       "    .dataframe tbody tr th:only-of-type {\n",
       "        vertical-align: middle;\n",
       "    }\n",
       "\n",
       "    .dataframe tbody tr th {\n",
       "        vertical-align: top;\n",
       "    }\n",
       "\n",
       "    .dataframe thead th {\n",
       "        text-align: right;\n",
       "    }\n",
       "</style>\n",
       "<table border=\"1\" class=\"dataframe\">\n",
       "  <thead>\n",
       "    <tr style=\"text-align: right;\">\n",
       "      <th></th>\n",
       "      <th>$y = 2 x_1 - x_2 + x_3$</th>\n",
       "      <th>Breast Cancer</th>\n",
       "      <th>California Housing</th>\n",
       "      <th>Wine Quality</th>\n",
       "      <th>Heart Disease</th>\n",
       "    </tr>\n",
       "  </thead>\n",
       "  <tbody>\n",
       "    <tr>\n",
       "      <th>0</th>\n",
       "      <td>0.70</td>\n",
       "      <td>0.00</td>\n",
       "      <td>0.15</td>\n",
       "      <td>0.21</td>\n",
       "      <td>0.00</td>\n",
       "    </tr>\n",
       "  </tbody>\n",
       "</table>\n",
       "</div>"
      ],
      "text/plain": [
       "  $y = 2 x_1 - x_2 + x_3$ Breast Cancer California Housing Wine Quality  \\\n",
       "0                    0.70          0.00               0.15         0.21   \n",
       "\n",
       "  Heart Disease  \n",
       "0          0.00  "
      ]
     },
     "execution_count": 4,
     "metadata": {},
     "output_type": "execute_result"
    }
   ],
   "source": [
    "dataset_rename = {\n",
    "    \"fake_data\": r\"$y = 2 x_1 - x_2 + x_3$\",\n",
    "    \"breast_cancer\": \"Breast Cancer\",\n",
    "    \"california_housing\": \"California Housing\",\n",
    "    \"wine_quality\": \"Wine Quality\",\n",
    "    \"heart_disease\": \"Heart Disease\",\n",
    "}\n",
    "\n",
    "dataset_order = [\n",
    "    r\"$y = 2 x_1 - x_2 + x_3$\",\n",
    "    \"Breast Cancer\",\n",
    "    \"California Housing\",\n",
    "    \"Wine Quality\",\n",
    "    \"Heart Disease\",\n",
    "]\n",
    "\n",
    "header_levenshtein_score = (\n",
    "    header_test_df\n",
    "    # normalise the levenshtein score\n",
    "    .assign(\n",
    "        normalised_levenshtein_score = lambda x: \n",
    "        x[\"levenshtein_score\"] / np.maximum(\n",
    "            x[\"header_completion\"].apply(len), x[\"llm_completion\"].apply(len)\n",
    "        )\n",
    "    )\n",
    "    [[\"dataset\", \"normalised_levenshtein_score\"]]\n",
    "    .assign(\n",
    "        normalised_levenshtein_score = lambda x: \n",
    "        x[\"normalised_levenshtein_score\"].apply(lambda y: f\"{y:.2f}\")\n",
    "    )\n",
    "    .set_index(\"dataset\")\n",
    "    .rename_axis(\"\")\n",
    "    .transpose()\n",
    "    .reset_index(drop=True)\n",
    "    .rename(columns=dataset_rename)\n",
    "    [dataset_order]\n",
    "    \n",
    ")\n",
    "header_levenshtein_score"
   ]
  },
  {
   "cell_type": "code",
   "execution_count": 5,
   "metadata": {},
   "outputs": [
    {
     "name": "stdout",
     "output_type": "stream",
     "text": [
      "\\begin{tabular}{lllll}\n",
      "\\toprule\n",
      "$y = 2 x_1 - x_2 + x_3$ & Breast Cancer & California Housing & Wine Quality & Heart Disease \\\\\n",
      "\\midrule\n",
      "0.70 & 0.00 & 0.15 & 0.21 & 0.00 \\\\\n",
      "\\bottomrule\n",
      "\\end{tabular}\n",
      "\n"
     ]
    }
   ],
   "source": [
    "print(header_levenshtein_score.to_latex(index=False))"
   ]
  },
  {
   "cell_type": "code",
   "execution_count": 6,
   "metadata": {},
   "outputs": [
    {
     "data": {
      "text/html": [
       "<div>\n",
       "<style scoped>\n",
       "    .dataframe tbody tr th:only-of-type {\n",
       "        vertical-align: middle;\n",
       "    }\n",
       "\n",
       "    .dataframe tbody tr th {\n",
       "        vertical-align: top;\n",
       "    }\n",
       "\n",
       "    .dataframe thead th {\n",
       "        text-align: right;\n",
       "    }\n",
       "</style>\n",
       "<table border=\"1\" class=\"dataframe\">\n",
       "  <thead>\n",
       "    <tr style=\"text-align: right;\">\n",
       "      <th></th>\n",
       "      <th>$y = 2 x_1 - x_2 + x_3$</th>\n",
       "      <th>Breast Cancer</th>\n",
       "      <th>California Housing</th>\n",
       "      <th>Wine Quality</th>\n",
       "      <th>Heart Disease</th>\n",
       "    </tr>\n",
       "  </thead>\n",
       "  <tbody>\n",
       "    <tr>\n",
       "      <th>0</th>\n",
       "      <td>0.74 ± 0.04</td>\n",
       "      <td>0.43 ± 0.13</td>\n",
       "      <td>0.58 ± 0.04</td>\n",
       "      <td>0.31 ± 0.04</td>\n",
       "      <td>0.33 ± 0.05</td>\n",
       "    </tr>\n",
       "  </tbody>\n",
       "</table>\n",
       "</div>"
      ],
      "text/plain": [
       "  $y = 2 x_1 - x_2 + x_3$ Breast Cancer California Housing Wine Quality  \\\n",
       "0             0.74 ± 0.04   0.43 ± 0.13        0.58 ± 0.04  0.31 ± 0.04   \n",
       "\n",
       "  Heart Disease  \n",
       "0   0.33 ± 0.05  "
      ]
     },
     "execution_count": 6,
     "metadata": {},
     "output_type": "execute_result"
    }
   ],
   "source": [
    "dataset_rename = {\n",
    "    \"fake_data\": r\"$y = 2 x_1 - x_2 + x_3$\",\n",
    "    \"breast_cancer\": \"Breast Cancer\",\n",
    "    \"california_housing\": \"California Housing\",\n",
    "    \"wine_quality\": \"Wine Quality\",\n",
    "    \"heart_disease\": \"Heart Disease\",\n",
    "}\n",
    "\n",
    "dataset_order = [\n",
    "    r\"$y = 2 x_1 - x_2 + x_3$\",\n",
    "    \"Breast Cancer\",\n",
    "    \"California Housing\",\n",
    "    \"Wine Quality\",\n",
    "    \"Heart Disease\",\n",
    "]\n",
    "\n",
    "row_levenshtein_score = (\n",
    "    row_test_df\n",
    "    # normalise the levenshtein score\n",
    "    .assign(\n",
    "        normalised_levenshtein_score = lambda x: \n",
    "        x[\"levenshtein_score\"] / np.maximum(\n",
    "            x[\"row_completion\"].apply(len), x[\"llm_completion\"].apply(len)\n",
    "        )\n",
    "    )\n",
    "    [[\"dataset\", \"normalised_levenshtein_score\"]]\n",
    "    .groupby(\"dataset\")\n",
    "    [\"normalised_levenshtein_score\"]\n",
    "    .apply(\n",
    "        lambda x: (\n",
    "            f\"{np.mean(x):.2f}\"\n",
    "            + \" ± \"\n",
    "            f\"{np.std(x):.2f}\"\n",
    "        )\n",
    "    )\n",
    "    .to_frame()\n",
    "    .rename_axis(\"\")\n",
    "    .transpose()\n",
    "    .reset_index(drop=True)\n",
    "    .rename(columns=dataset_rename)\n",
    "    [dataset_order]\n",
    ")\n",
    "row_levenshtein_score"
   ]
  },
  {
   "cell_type": "code",
   "execution_count": 7,
   "metadata": {},
   "outputs": [
    {
     "name": "stdout",
     "output_type": "stream",
     "text": [
      "\\begin{tabular}{lllll}\n",
      "\\toprule\n",
      "$y = 2 x_1 - x_2 + x_3$ & Breast Cancer & California Housing & Wine Quality & Heart Disease \\\\\n",
      "\\midrule\n",
      "0.74 ± 0.04 & 0.43 ± 0.13 & 0.58 ± 0.04 & 0.31 ± 0.04 & 0.33 ± 0.05 \\\\\n",
      "\\bottomrule\n",
      "\\end{tabular}\n",
      "\n"
     ]
    }
   ],
   "source": [
    "print(row_levenshtein_score.to_latex(index=False))"
   ]
  },
  {
   "cell_type": "code",
   "execution_count": 11,
   "metadata": {},
   "outputs": [
    {
     "data": {
      "text/plain": [
       "array(['7.1,0.13,0.38,1.8,0.046,14.0,114.0,0.9925,3.32,0.9,11.7,6,white',\n",
       "       '6.5,0.34,0.28,1.8,0.041,43.0,188.0,0.9928,3.13,0.37,9.6,6,white'],\n",
       "      dtype=object)"
      ]
     },
     "execution_count": 11,
     "metadata": {},
     "output_type": "execute_result"
    }
   ],
   "source": [
    "row_test_df.iloc[0][[\"row_completion\", \"llm_completion\"]].values"
   ]
  }
 ],
 "metadata": {
  "kernelspec": {
   "display_name": "llm-prior",
   "language": "python",
   "name": "python3"
  },
  "language_info": {
   "codemirror_mode": {
    "name": "ipython",
    "version": 3
   },
   "file_extension": ".py",
   "mimetype": "text/x-python",
   "name": "python",
   "nbconvert_exporter": "python",
   "pygments_lexer": "ipython3",
   "version": "3.11.9"
  }
 },
 "nbformat": 4,
 "nbformat_minor": 2
}
